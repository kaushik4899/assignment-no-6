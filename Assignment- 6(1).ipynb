{
 "cells": [
  {
   "cell_type": "code",
   "execution_count": 2,
   "id": "757287cb",
   "metadata": {},
   "outputs": [
    {
     "name": "stdout",
     "output_type": "stream",
     "text": [
      "[{'name': 'vaibhav', 'dob': '30.10.97', 'height': '5.7', 'city': 'pune', 'state': 'maharashtra'}, {'name': 'kaushik', 'dob': '04.08.99', 'height': '5.6', 'city': 'jalgoan', 'state': 'maharashtra'}, {'name': 'abhishek', 'dob': '21.02.99', 'height': '5.10', 'city': 'thane', 'state': 'maharashtra'}, {'name': 'aniket', 'dob': '7.06.99', 'height': '5.9', 'city': 'mumbai', 'state': 'maharashtra'}, {'name': 'ashwin', 'dob': '11.05.99', 'height': '5.6', 'city': 'sangli', 'state': 'maharashtra'}]\n"
     ]
    }
   ],
   "source": [
    "import json\n",
    "\n",
    "data_JSON =  \"\"\"\n",
    "{\n",
    "   \"employee.json\": [\n",
    "\n",
    "      {\n",
    "         \"name\": \"vaibhav\",\n",
    "         \"dob\": \"30.10.97\",\n",
    "         \"height\": \"5.7\",\n",
    "         \"city\": \"pune\",\n",
    "         \"state\": \"maharashtra\"\n",
    "      },\n",
    "\n",
    "      {\n",
    "         \"name\": \"kaushik\",\n",
    "         \"dob\": \"04.08.99\",\n",
    "         \"height\": \"5.6\",\n",
    "         \"city\": \"jalgoan\",\n",
    "         \"state\": \"maharashtra\"\n",
    "      },\n",
    "      {\n",
    "         \"name\": \"abhishek\",\n",
    "         \"dob\": \"21.02.99\",\n",
    "         \"height\": \"5.10\",\n",
    "         \"city\": \"thane\",\n",
    "         \"state\": \"maharashtra\"\n",
    "       },\n",
    "       {\n",
    "         \"name\": \"aniket\",\n",
    "         \"dob\": \"7.06.99\",\n",
    "         \"height\": \"5.9\",\n",
    "         \"city\": \"mumbai\",\n",
    "         \"state\": \"maharashtra\"\n",
    "       },\n",
    "       {\n",
    "         \"name\": \"ashwin\",\n",
    "         \"dob\": \"11.05.99\",\n",
    "         \"height\": \"5.6\",\n",
    "         \"city\": \"sangli\",\n",
    "         \"state\": \"maharashtra\"\n",
    "       }\n",
    "   ]\n",
    "}\n",
    "\"\"\"\n",
    "\n",
    "data_dict = json.loads(data_JSON)\n",
    "print(data_dict[\"employee.json\"])"
   ]
  },
  {
   "cell_type": "code",
   "execution_count": null,
   "id": "e28af375",
   "metadata": {},
   "outputs": [],
   "source": [
    "import json\n",
    "capital_JSON=\"\"\"\"{\"capital.json\":[{\"maharastra\":\"mumbai\",\"Assam\":\"Dispur\",\"gujrat\":\"gandhinagar\",\n",
    "             \"goa\":\"panaji\",\"punjab\":\"Chandigarh\",\"madhya-pradesh\":\"bhopal\",\"rajsthan\":\"jaypur\"}]}\"\"\"\n",
    "data_dict = json.loads(capital_JSON)\n",
    "print(data_dict[\"capital.json\"])\n",
    "             "
   ]
  },
  {
   "cell_type": "code",
   "execution_count": null,
   "id": "25090334",
   "metadata": {},
   "outputs": [],
   "source": []
  },
  {
   "cell_type": "code",
   "execution_count": null,
   "id": "06b551d1",
   "metadata": {},
   "outputs": [],
   "source": []
  }
 ],
 "metadata": {
  "kernelspec": {
   "display_name": "Python 3 (ipykernel)",
   "language": "python",
   "name": "python3"
  },
  "language_info": {
   "codemirror_mode": {
    "name": "ipython",
    "version": 3
   },
   "file_extension": ".py",
   "mimetype": "text/x-python",
   "name": "python",
   "nbconvert_exporter": "python",
   "pygments_lexer": "ipython3",
   "version": "3.9.12"
  }
 },
 "nbformat": 4,
 "nbformat_minor": 5
}
